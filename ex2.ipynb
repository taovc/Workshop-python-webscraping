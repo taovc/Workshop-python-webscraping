{
 "cells": [
  {
   "cell_type": "code",
   "execution_count": 10,
   "metadata": {},
   "outputs": [],
   "source": [
    "from bs4 import BeautifulSoup\n",
    "import requests\n",
    "import random\n",
    "import pickle\n",
    "\n",
    "\n",
    "#uer_agent lib\n",
    "USER_AGENT_LIST = [\n",
    "    \"Mozilla/5.0 (Windows NT 10.0;Win64; x64) AppleWebKit/537.36 (KHTML, like Gecko) Chrome/79.0.3945.74 Safari/537.36 Edg/79.0.309.43\"\n",
    "    \"Mozilla/5.0 (Windows NT 6.1; WOW64) AppleWebKit/537.1 (KHTML, like Gecko) Chrome/22.0.1207.1 Safari/537.1\",\n",
    "    \"Mozilla/5.0 (X11; CrOS i686 2268.111.0) AppleWebKit/536.11 (KHTML, like Gecko) Chrome/20.0.1132.57 Safari/536.11\",\n",
    "    \"Mozilla/5.0 (Windows NT 6.1; WOW64) AppleWebKit/536.6 (KHTML, like Gecko) Chrome/20.0.1092.0 Safari/536.6\",\n",
    "    \"Mozilla/5.0 (Windows NT 6.2) AppleWebKit/536.6 (KHTML, like Gecko) Chrome/20.0.1090.0 Safari/536.6\",\n",
    "    \"Mozilla/4.0 (compatible; MSIE 7.0; Windows NT 5.1; 360SE)\",\n",
    "    \"Mozilla/5.0 (Windows NT 6.1; WOW64) AppleWebKit/536.3 (KHTML, like Gecko) Chrome/19.0.1061.1 Safari/536.3\",\n",
    "    \"Mozilla/5.0 (Windows NT 6.1) AppleWebKit/536.3 (KHTML, like Gecko) Chrome/19.0.1061.1 Safari/536.3\",\n",
    "    \"Mozilla/5.0 (Windows NT 6.2) AppleWebKit/536.3 (KHTML, like Gecko) Chrome/19.0.1061.0 Safari/536.3\",\n",
    "    \"Mozilla/5.0 (X11; Linux x86_64) AppleWebKit/535.24 (KHTML, like Gecko) Chrome/19.0.1055.1 Safari/535.24\",\n",
    "    \"Mozilla/5.0 (Windows NT 6.2; WOW64) AppleWebKit/535.24 (KHTML, like Gecko) Chrome/19.0.1055.1 Safari/535.24\"\n",
    "]\n",
    "\n",
    "url = 'https://wordery.com/adventure-books-FJ'"
   ]
  },
  {
   "cell_type": "markdown",
   "metadata": {},
   "source": [
    "Purpose:\n",
    "Learn python dictionary and class usage.\n",
    "Learn the library usage of beautifulSoup.\n",
    "Use beautifulSoup to scrape website information and save to file."
   ]
  },
  {
   "cell_type": "markdown",
   "metadata": {},
   "source": [
    "Exercise Before:\n",
    "This is not an exercise that has to be written, but it can help you get started with python quickly."
   ]
  },
  {
   "cell_type": "code",
   "execution_count": null,
   "metadata": {},
   "outputs": [],
   "source": [
    "#Code:\n",
    "#Exercise1:list\n",
    "#Create an empty list 'list1' and expand it from 0 to 5\n",
    "list1 = []\n",
    "\n",
    "print(list1)\n",
    "#delete value '2' in the 'list1'\n",
    "\n",
    "print(list1)"
   ]
  },
  {
   "cell_type": "markdown",
   "metadata": {},
   "source": [
    "expected result:\n",
    "[0, 1, 2, 3, 4, 5]\n",
    "[0, 1, 3, 4, 5]"
   ]
  },
  {
   "cell_type": "code",
   "execution_count": null,
   "metadata": {},
   "outputs": [],
   "source": [
    "#Code:\n",
    "#Exercise2:Dictionary\n",
    "#Create an empty dictionary 'Dic1' with keys (name, age, sex) and values ('Alice', '22', 'female').\n",
    "Dic1 = {}\n",
    "\n",
    "print(Dic1)\n",
    "\n",
    "#delete key 'age' in the 'Dic1'\n",
    "print(Dic1)"
   ]
  },
  {
   "cell_type": "markdown",
   "metadata": {},
   "source": [
    "expected result:\n",
    "{'name': 'Alice', 'age': 22, 'sex': 'female'}\n",
    "{'name': 'Alice', 'sex': 'female'}"
   ]
  },
  {
   "cell_type": "markdown",
   "metadata": {},
   "source": []
  },
  {
   "cell_type": "markdown",
   "metadata": {},
   "source": [
    "Exercise1:\n",
    "create a 'headers'(TYPE dictionaire) with user-agent that choice a header randomly in 'USER_AGENT_LIST'--(pakage random). The `User-Agent` variable will identify yourself to the website's API.\n",
    "create a 'reqst' with type GET(use header and url)--(pakage requests). The `url` is the website you want to scrape.\n",
    "create a 'soup' with BeautifulSoup (parsing library lxml) -- (pakage BeautifulSoup)."
   ]
  },
  {
   "cell_type": "code",
   "execution_count": null,
   "metadata": {},
   "outputs": [],
   "source": [
    "#random.choice\n",
    "\n",
    "# Code:\n",
    "# headers = \n",
    "# reqst = \n",
    "# soup ="
   ]
  },
  {
   "cell_type": "markdown",
   "metadata": {},
   "source": [
    "Exercise2:\n",
    "create a class named 'bookInfo' that structure by (name, author, price).\n",
    "and print all content."
   ]
  },
  {
   "cell_type": "code",
   "execution_count": null,
   "metadata": {},
   "outputs": [],
   "source": [
    "#get book info\n",
    "\n",
    "# Code:\n",
    "#class bookInfo:\n",
    "#\n",
    "\n",
    "example = bookInfo(\"book\", \"is\", \"999$\")\n",
    "print(example.name, example.author, example.price)"
   ]
  },
  {
   "cell_type": "markdown",
   "metadata": {},
   "source": [
    "expected result:\n",
    "'book is 999$'"
   ]
  },
  {
   "cell_type": "markdown",
   "metadata": {},
   "source": [
    "Exercise3:\n",
    "Create a variable \"bookList\" that contains a list of class (type bookInfo) of all the information of the book\n",
    "\n",
    "to do that:\n",
    "    create a variable named 'all_book_tag' that find all infomation from tag\n",
    "    (Use the built-in find_all() method of the 'soup' variable)\n",
    "    (key is 'o-book-list o-book-list--margin o-book-list--portrait o-book-list--clamp')\n",
    "\n",
    "    create a loop for each 'book_tag' in 'all_book_tag'.\n",
    "    create a loop for each 'book' in 'book_tag'.\n",
    "        in your 'book', please find the 'bookname', book 'author', and it's 'prix'.\n",
    "        create 'bookname' variable.(Use the built-in find() method of the 'book' variable)\n",
    "        (Key is 'c-book__title')\n",
    "        create 'author' variable that content the name of author.\n",
    "        create 'price' variable that content the price of book.\n",
    "        create 'price' variable that content the price of book.\n",
    "        create 'A_book' variable (Type Class bookInfo) that content the 'bookname', 'author' and 'price'.\n",
    "        append 'A_book' to the 'bookList'\n"
   ]
  },
  {
   "cell_type": "code",
   "execution_count": null,
   "metadata": {},
   "outputs": [],
   "source": [
    "# Code:\n",
    "#bookList = []\n",
    "\n",
    "#all_book_tag = \n",
    "\n",
    "#for book_tag in all_book_tag:\n",
    "#    for book in book_tag:\n",
    "#\n",
    "\n",
    "#print(bookList[0].name, bookList[0].author, bookList[0].price)"
   ]
  },
  {
   "cell_type": "markdown",
   "metadata": {},
   "source": [
    "expect:\n",
    "'Better Off Dead  Lee Child, Andrew Child \n",
    "20,53 € '"
   ]
  },
  {
   "cell_type": "markdown",
   "metadata": {},
   "source": []
  },
  {
   "cell_type": "markdown",
   "metadata": {},
   "source": [
    "Exercise4:\n",
    "Rather than exporting the pandas dataframe into SQL database, export it as a file stored on your computer.\n",
    "This is called serialization.\n",
    "Export your data using pickle, name the file 'data.pkl'"
   ]
  },
  {
   "cell_type": "code",
   "execution_count": null,
   "metadata": {},
   "outputs": [],
   "source": [
    "# Code:\n",
    "\n",
    "# Dump\n",
    "#fw = \n",
    "#for info in bookList:\n",
    "#\n",
    "\n",
    "# Display\n",
    "#fr =\n",
    "#for info in bookList:\n",
    "#"
   ]
  }
 ],
 "metadata": {
  "interpreter": {
   "hash": "916dbcbb3f70747c44a77c7bcd40155683ae19c65e1c03b4aa3499c5328201f1"
  },
  "kernelspec": {
   "display_name": "Python 3.8.10 64-bit",
   "language": "python",
   "name": "python3"
  },
  "language_info": {
   "codemirror_mode": {
    "name": "ipython",
    "version": 3
   },
   "file_extension": ".py",
   "mimetype": "text/x-python",
   "name": "python",
   "nbconvert_exporter": "python",
   "pygments_lexer": "ipython3",
   "version": "3.8.10"
  },
  "orig_nbformat": 4
 },
 "nbformat": 4,
 "nbformat_minor": 2
}
